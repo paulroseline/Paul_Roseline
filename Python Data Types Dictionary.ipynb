{
 "cells": [
  {
   "cell_type": "markdown",
   "id": "83db9b41",
   "metadata": {},
   "source": [
    "# Dictionary Data Type"
   ]
  },
  {
   "cell_type": "code",
   "execution_count": 5,
   "id": "a982bc02",
   "metadata": {},
   "outputs": [
    {
     "name": "stdout",
     "output_type": "stream",
     "text": [
      "{'name': 'Yemi', 'age': 35, 'city': 'Lagos'}\n"
     ]
    }
   ],
   "source": [
    "# Examples\n",
    "strings = \"What is your name?\"\n",
    "integer = 12, 30\n",
    "floats = 2.3, 5.6\n",
    "\n",
    "my_students = {\n",
    "    \"name\": \"Yemi\",\n",
    "    \"age\": 35,\n",
    "    \"city\": \"Lagos\"\n",
    "    \n",
    "}\n",
    "\n",
    "#my_students = {\"name\", \"age\", \"city\"}\n",
    "print (my_students)"
   ]
  },
  {
   "cell_type": "code",
   "execution_count": 6,
   "id": "374c2bb3",
   "metadata": {},
   "outputs": [
    {
     "name": "stdout",
     "output_type": "stream",
     "text": [
      "Yemi\n"
     ]
    }
   ],
   "source": [
    "print (my_students[\"name\"])"
   ]
  },
  {
   "cell_type": "code",
   "execution_count": 8,
   "id": "bf5130d0",
   "metadata": {},
   "outputs": [
    {
     "name": "stdout",
     "output_type": "stream",
     "text": [
      "Lagos\n"
     ]
    }
   ],
   "source": [
    "print (my_students[\"city\"])"
   ]
  },
  {
   "cell_type": "markdown",
   "id": "2cb1f2b0",
   "metadata": {},
   "source": [
    "# How to Modify Dictionary "
   ]
  },
  {
   "cell_type": "code",
   "execution_count": null,
   "id": "84c56c39",
   "metadata": {},
   "outputs": [],
   "source": [
    "my_students[]"
   ]
  },
  {
   "cell_type": "code",
   "execution_count": 20,
   "id": "6affb2e7",
   "metadata": {},
   "outputs": [
    {
     "name": "stdout",
     "output_type": "stream",
     "text": [
      "[1, 2, 3, 4]\n"
     ]
    }
   ],
   "source": [
    "my_list = [1,2,3,4]\n",
    "print (my_list)"
   ]
  },
  {
   "cell_type": "code",
   "execution_count": 21,
   "id": "814ce5e4",
   "metadata": {},
   "outputs": [
    {
     "name": "stdout",
     "output_type": "stream",
     "text": [
      "[1, 2, 3, 4, 5]\n"
     ]
    }
   ],
   "source": [
    "my_list.append(5)\n",
    "print (my_list)\n",
    "\n"
   ]
  },
  {
   "cell_type": "markdown",
   "id": "bb2b5f43",
   "metadata": {},
   "source": [
    "# To append in Ddictionary "
   ]
  },
  {
   "cell_type": "code",
   "execution_count": 23,
   "id": "c3e7d741",
   "metadata": {},
   "outputs": [
    {
     "name": "stdout",
     "output_type": "stream",
     "text": [
      "{'name': 'Yemi', 'age': 35, 'city': 'Lagos', 'email': 'rosyro4real2000@yahoo.com'}\n"
     ]
    }
   ],
   "source": [
    "my_students [\"email\"] = \"rosyro4real2000@yahoo.com\"\n",
    "print (my_students)"
   ]
  },
  {
   "cell_type": "code",
   "execution_count": 24,
   "id": "62f34228",
   "metadata": {},
   "outputs": [
    {
     "name": "stdout",
     "output_type": "stream",
     "text": [
      "{'name': 'Yemi', 'age': 90, 'city': 'Lagos', 'email': 'rosyro4real2000@yahoo.com'}\n"
     ]
    }
   ],
   "source": [
    "my_students[\"age\"] = 90\n",
    "print (my_students)"
   ]
  },
  {
   "cell_type": "markdown",
   "id": "d76cc8c9",
   "metadata": {},
   "source": [
    "# To remove item from the dictionary"
   ]
  },
  {
   "cell_type": "code",
   "execution_count": 26,
   "id": "cc5cf743",
   "metadata": {},
   "outputs": [
    {
     "name": "stdout",
     "output_type": "stream",
     "text": [
      "{'name': 'Yemi', 'age': 90, 'email': 'rosyro4real2000@yahoo.com'}\n"
     ]
    }
   ],
   "source": [
    "del my_students[\"city\"]\n",
    "print (my_students)"
   ]
  },
  {
   "cell_type": "code",
   "execution_count": 28,
   "id": "ab179645",
   "metadata": {},
   "outputs": [
    {
     "name": "stdout",
     "output_type": "stream",
     "text": [
      "{'name': 'Yemi', 'age': 90}\n"
     ]
    }
   ],
   "source": [
    "# pop() is used to remove the last element in a list\n",
    "\n",
    "email = my_students.pop(\"email\")\n",
    "print (my_students)"
   ]
  },
  {
   "cell_type": "code",
   "execution_count": 29,
   "id": "56ccaf9b",
   "metadata": {},
   "outputs": [
    {
     "name": "stdout",
     "output_type": "stream",
     "text": [
      "rosyro4real2000@yahoo.com\n"
     ]
    }
   ],
   "source": [
    "print (email)"
   ]
  },
  {
   "cell_type": "code",
   "execution_count": 30,
   "id": "7591c139",
   "metadata": {},
   "outputs": [
    {
     "name": "stdout",
     "output_type": "stream",
     "text": [
      "{'name': 'Yemi', 'age': 90, 'city': 'Lagos'}\n"
     ]
    }
   ],
   "source": [
    "my_students [\"city\"] = \"Lagos\"\n",
    "print (my_students)"
   ]
  },
  {
   "cell_type": "markdown",
   "id": "e87627ff",
   "metadata": {},
   "source": [
    "# Checking for Keywords"
   ]
  },
  {
   "cell_type": "code",
   "execution_count": 35,
   "id": "aaaa2e7d",
   "metadata": {},
   "outputs": [
    {
     "name": "stdout",
     "output_type": "stream",
     "text": [
      "Name exist here\n",
      "City exist here\n"
     ]
    }
   ],
   "source": [
    "#name, city and age\n",
    "\n",
    "if \"name\" in my_students:\n",
    "    print (\"Name exist here\")\n",
    "    \n",
    "if \"city\" in my_students:\n",
    "    print(\"City exist here\")"
   ]
  },
  {
   "cell_type": "code",
   "execution_count": 37,
   "id": "3622c1ea",
   "metadata": {},
   "outputs": [
    {
     "name": "stdout",
     "output_type": "stream",
     "text": [
      "{'name': 'Yemi', 'age': 90, 'city': 'Lagos'}\n",
      "{'name': 'Yemi', 'age': 90, 'city': 'Lagos'}\n",
      "{'name': 'Yemi', 'age': 90, 'city': 'Lagos'}\n"
     ]
    }
   ],
   "source": [
    "# Iteration over keys\n",
    "\n",
    "for name in my_students:\n",
    "    print (my_students)"
   ]
  },
  {
   "cell_type": "code",
   "execution_count": 41,
   "id": "adc9102c",
   "metadata": {},
   "outputs": [
    {
     "name": "stdout",
     "output_type": "stream",
     "text": [
      "Key 'grapes' is not there\n"
     ]
    }
   ],
   "source": [
    "# More examples for checking for keyboards\n",
    "\n",
    "inventory = {\n",
    "    \"apples\": 19,\n",
    "    \"Banana\": 20,\n",
    "    \"Strawberry\": 13\n",
    "}\n",
    "\n",
    "if \"grape\" not in inventory:\n",
    "    print (\"Key 'grapes' is not there\")"
   ]
  },
  {
   "cell_type": "code",
   "execution_count": 42,
   "id": "23ee6d62",
   "metadata": {},
   "outputs": [
    {
     "name": "stdout",
     "output_type": "stream",
     "text": [
      "Apple dey inside, look well well\n"
     ]
    }
   ],
   "source": [
    "if \"apples\" in inventory:\n",
    "    print (\"Apple dey inside, look well well\")"
   ]
  },
  {
   "cell_type": "code",
   "execution_count": null,
   "id": "b0b3822c",
   "metadata": {},
   "outputs": [],
   "source": [
    "\n"
   ]
  },
  {
   "cell_type": "code",
   "execution_count": null,
   "id": "cfdef119",
   "metadata": {},
   "outputs": [],
   "source": [
    "# More Examples on Dictionary"
   ]
  },
  {
   "cell_type": "code",
   "execution_count": 43,
   "id": "e7e9b3fd",
   "metadata": {},
   "outputs": [
    {
     "name": "stdout",
     "output_type": "stream",
     "text": [
      "{'name': 'Alice', 'age': 23, 'grades': [85, 90, 92]}\n"
     ]
    }
   ],
   "source": [
    "# Creating a dictionary with key-value pairs\n",
    "student = {\n",
    "    \"name\": \"Alice\",\n",
    "    \"age\": 23,\n",
    "    \"grades\": [85, 90, 92]\n",
    "}\n",
    "print(student)"
   ]
  },
  {
   "cell_type": "code",
   "execution_count": 44,
   "id": "a4924a3c",
   "metadata": {},
   "outputs": [
    {
     "name": "stdout",
     "output_type": "stream",
     "text": [
      "Alice\n",
      "[85, 90, 92]\n"
     ]
    }
   ],
   "source": [
    "# Accessing values by key\n",
    "print(student[\"name\"])  # Output: Alice\n",
    "print(student[\"grades\"])  # Output: [85, 90, 92]"
   ]
  },
  {
   "cell_type": "code",
   "execution_count": 46,
   "id": "05b0c2be",
   "metadata": {},
   "outputs": [
    {
     "name": "stdout",
     "output_type": "stream",
     "text": [
      "{'name': 'Alice', 'age': 24, 'grades': [85, 90, 92], 'major': 'Computer Science', 'Departmenr': 'Computer Science'}\n",
      "{'name': 'Alice', 'age': 24, 'grades': [85, 90, 92], 'major': 'Computer Science', 'Departmenr': 'Computer Science'}\n"
     ]
    }
   ],
   "source": [
    "# Adding a new key-value pair\n",
    "student[\"Departmenr\"] = \"Computer Science\"\n",
    "print(student)\n",
    "\n",
    "# Modifying an existing value\n",
    "student[\"age\"] = 24\n",
    "print(student)"
   ]
  },
  {
   "cell_type": "code",
   "execution_count": 47,
   "id": "89465f07",
   "metadata": {},
   "outputs": [
    {
     "name": "stdout",
     "output_type": "stream",
     "text": [
      "{'name': 'Alice', 'age': 24, 'major': 'Computer Science', 'Departmenr': 'Computer Science'}\n"
     ]
    }
   ],
   "source": [
    "# Removing a key-value pair\n",
    "del student[\"grades\"]\n",
    "print(student)"
   ]
  },
  {
   "cell_type": "code",
   "execution_count": 48,
   "id": "4d14e261",
   "metadata": {},
   "outputs": [
    {
     "name": "stdout",
     "output_type": "stream",
     "text": [
      "name\n",
      "age\n",
      "major\n",
      "Departmenr\n",
      "Alice\n",
      "24\n",
      "Computer Science\n",
      "Computer Science\n"
     ]
    }
   ],
   "source": [
    "# Looping through keys\n",
    "for key in student:\n",
    "    print(key)\n",
    "\n",
    "# Looping through values\n",
    "for value in student.values():\n",
    "    print(value)"
   ]
  },
  {
   "cell_type": "code",
   "execution_count": 49,
   "id": "e42258d7",
   "metadata": {},
   "outputs": [
    {
     "name": "stdout",
     "output_type": "stream",
     "text": [
      "name: Alice\n",
      "age: 24\n",
      "major: Computer Science\n",
      "Departmenr: Computer Science\n"
     ]
    }
   ],
   "source": [
    "# Looping through key-value pairs\n",
    "for key, value in student.items():\n",
    "    print(f\"{key}: {value}\")"
   ]
  },
  {
   "cell_type": "code",
   "execution_count": 51,
   "id": "c3f23eb2",
   "metadata": {},
   "outputs": [
    {
     "name": "stdout",
     "output_type": "stream",
     "text": [
      "{0: 0, 1: 1, 2: 4, 3: 9, 4: 16, 5: 25}\n"
     ]
    }
   ],
   "source": [
    "# Creating a dictionary using comprehension\n",
    "squares = {x: x*x for x in range(6)}\n",
    "print(squares)"
   ]
  },
  {
   "cell_type": "code",
   "execution_count": 57,
   "id": "f359ad5c",
   "metadata": {},
   "outputs": [
    {
     "name": "stdout",
     "output_type": "stream",
     "text": [
      "Name is present in the dictionary\n"
     ]
    }
   ],
   "source": [
    "# Checking if a key exists in a dictionary\n",
    "if \"name\" in student:\n",
    "    print(\"Name is present in the dictionary\")\n",
    "\n",
    "if \"grades\" not in student:\n",
    "    print(\"Grades are not present in the dictionary\")"
   ]
  },
  {
   "cell_type": "code",
   "execution_count": 58,
   "id": "7cd149ab",
   "metadata": {},
   "outputs": [
    {
     "name": "stdout",
     "output_type": "stream",
     "text": [
      "{'name': 'Alice', 'age': 24, 'math': 95, 'science': 90}\n"
     ]
    }
   ],
   "source": [
    "# Merging two dictionaries\n",
    "student_info = {\"name\": \"Alice\", \"age\": 24}\n",
    "student_scores = {\"math\": 95, \"science\": 90}\n",
    "student_info.update(student_scores)\n",
    "print(student_info)"
   ]
  },
  {
   "cell_type": "code",
   "execution_count": 59,
   "id": "fe2800d8",
   "metadata": {},
   "outputs": [
    {
     "name": "stdout",
     "output_type": "stream",
     "text": [
      "Alice\n"
     ]
    }
   ],
   "source": [
    "# Creating and accessing nested dictionaries\n",
    "classroom = {\n",
    "    \"student1\": {\"name\": \"Alice\", \"age\": 24},\n",
    "    \"student2\": {\"name\": \"Bob\", \"age\": 22}\n",
    "}\n",
    "\n",
    "print(classroom[\"student1\"][\"name\"])  # Output: Alice"
   ]
  },
  {
   "cell_type": "code",
   "execution_count": 60,
   "id": "4b453d0a",
   "metadata": {},
   "outputs": [
    {
     "name": "stdout",
     "output_type": "stream",
     "text": [
      "Alice\n",
      "[80, 85]\n"
     ]
    }
   ],
   "source": [
    "# Using get method to access values\n",
    "# Returns None if the key is not found\n",
    "print(student.get(\"name\"))  # Output: Alice\n",
    "print(student.get(\"grades\"))  # Output: None"
   ]
  },
  {
   "cell_type": "code",
   "execution_count": 61,
   "id": "4793a407",
   "metadata": {},
   "outputs": [
    {
     "name": "stdout",
     "output_type": "stream",
     "text": [
      "{'name': 'Alice', 'major': 'Computer Science', 'Departmenr': 'Computer Science', 'grades': [80, 85]}\n"
     ]
    }
   ],
   "source": [
    "# Using setdefault to set a value if key doesn't exist\n",
    "student.setdefault(\"grades\", [80, 85])\n",
    "print(student)"
   ]
  },
  {
   "cell_type": "code",
   "execution_count": 67,
   "id": "ca049eba",
   "metadata": {},
   "outputs": [
    {
     "name": "stdout",
     "output_type": "stream",
     "text": [
      "23\n",
      "{'name': 'Alice', 'grades': [85, 90, 92]}\n"
     ]
    }
   ],
   "source": [
    "# Removing a key-value pair and returning the value\n",
    "student = {\n",
    "    \"name\": \"Alice\",\n",
    "    \"age\": 23,\n",
    "    \"grades\": [85, 90, 92]\n",
    "}\n",
    "age = student.pop(\"age\")\n",
    "print(age)  \n",
    "print(student)"
   ]
  },
  {
   "cell_type": "code",
   "execution_count": null,
   "id": "55eeabc4",
   "metadata": {},
   "outputs": [],
   "source": []
  },
  {
   "cell_type": "code",
   "execution_count": null,
   "id": "cf3aa066",
   "metadata": {},
   "outputs": [],
   "source": [
    "# Class Exercise on Dictionary \n",
    "# Given a dictionary bellow, add a new key value to the dictionary\n",
    "# Modify an existing key value pair,\n",
    "# Remove an entry from the key values pair."
   ]
  },
  {
   "cell_type": "code",
   "execution_count": 10,
   "id": "e98a38b4",
   "metadata": {},
   "outputs": [
    {
     "name": "stdout",
     "output_type": "stream",
     "text": [
      "{'brand': 'Toyota', 'Model': 'Corolla', 'Year': 2020}\n",
      "Toyota\n"
     ]
    }
   ],
   "source": [
    "# Dictionary\n",
    "\n",
    "cars = {\n",
    "    \"brand\": \"Toyota\",\n",
    "    \"Model\": \"Corolla\",\n",
    "    \"Year\": 2020\n",
    "}\n",
    "\n",
    "print (cars)\n",
    "print (cars[\"brand\"])"
   ]
  },
  {
   "cell_type": "code",
   "execution_count": 11,
   "id": "273d7936",
   "metadata": {},
   "outputs": [
    {
     "name": "stdout",
     "output_type": "stream",
     "text": [
      "{'brand': 'Toyota', 'Model': 'Corolla', 'Year': 2023}\n"
     ]
    }
   ],
   "source": [
    "cars[\"Year\"] = 2023\n",
    "print (cars)"
   ]
  },
  {
   "cell_type": "code",
   "execution_count": 12,
   "id": "daa3a049",
   "metadata": {},
   "outputs": [
    {
     "name": "stdout",
     "output_type": "stream",
     "text": [
      "{'brand': 'Toyota', 'Model': 'Corolla', 'Year': 2023, 'color': 'red'}\n"
     ]
    }
   ],
   "source": [
    "# Given a dictionary bellow, add a new key value to the dictionary\n",
    "\n",
    "cars[\"color\"]= \"red\"\n",
    "print (cars)"
   ]
  },
  {
   "cell_type": "code",
   "execution_count": 13,
   "id": "873b4b52",
   "metadata": {},
   "outputs": [
    {
     "name": "stdout",
     "output_type": "stream",
     "text": [
      "{'brand': 'Toyota', 'Year': 2023, 'color': 'red'}\n"
     ]
    }
   ],
   "source": [
    "# Remove an entry from the key values pair.\n",
    "\n",
    "del cars[\"Model\"]\n",
    "print (cars)"
   ]
  },
  {
   "cell_type": "code",
   "execution_count": null,
   "id": "bef42ada",
   "metadata": {},
   "outputs": [],
   "source": []
  },
  {
   "cell_type": "markdown",
   "id": "e51d8955",
   "metadata": {},
   "source": [
    "# SET -\n",
    "# This Is an unordered collection of unique elemets defined by {} bracket. It does not allow duplicates from a  collection,"
   ]
  },
  {
   "cell_type": "code",
   "execution_count": 14,
   "id": "107985f2",
   "metadata": {},
   "outputs": [
    {
     "name": "stdout",
     "output_type": "stream",
     "text": [
      "{1, 2, 3, 4, 5, 6, 7}\n"
     ]
    }
   ],
   "source": [
    "# How to create a set Method 1\n",
    "python_set = {1,2,3,4,5,6,7}\n",
    "print (python_set)"
   ]
  },
  {
   "cell_type": "code",
   "execution_count": 15,
   "id": "da6c578b",
   "metadata": {},
   "outputs": [
    {
     "name": "stdout",
     "output_type": "stream",
     "text": [
      "{2, 4, 6, 8, 10}\n"
     ]
    }
   ],
   "source": [
    "# How to create a set Method 2\n",
    "python2_set = set([2,4,6,8,10])\n",
    "print (python2_set) "
   ]
  },
  {
   "cell_type": "code",
   "execution_count": 20,
   "id": "5bf580c4",
   "metadata": {},
   "outputs": [
    {
     "name": "stdout",
     "output_type": "stream",
     "text": [
      "{1, 2, 3, 4, 5, 6, 7, 8}\n"
     ]
    }
   ],
   "source": [
    "# How to add to a set in python\n",
    "\n",
    "# Note Set in python does  ot support .append function, we use .add\n",
    "\n",
    "python_set.add(8)\n",
    "print (python_set)"
   ]
  },
  {
   "cell_type": "code",
   "execution_count": null,
   "id": "f496abc1",
   "metadata": {},
   "outputs": [],
   "source": [
    "# To remove an item from a set"
   ]
  },
  {
   "cell_type": "code",
   "execution_count": 21,
   "id": "2322e95a",
   "metadata": {},
   "outputs": [
    {
     "name": "stdout",
     "output_type": "stream",
     "text": [
      "{2, 4, 8, 10}\n"
     ]
    }
   ],
   "source": [
    "python2_set.remove(6)\n",
    "print (python2_set)"
   ]
  },
  {
   "cell_type": "code",
   "execution_count": 23,
   "id": "93079bd3",
   "metadata": {},
   "outputs": [
    {
     "name": "stdout",
     "output_type": "stream",
     "text": [
      "{1, 2, 3, 4, 5, 6, 7, 8}\n"
     ]
    }
   ],
   "source": [
    "# Basic Set Operations\n",
    "\n",
    "a = {1,2,3,4}\n",
    "b = {5,6,7,8}\n",
    "\n",
    "# To solve for union in set\n",
    "\n",
    "together = a.union(b)\n",
    "print (together)\n"
   ]
  },
  {
   "cell_type": "code",
   "execution_count": 24,
   "id": "1f02fb44",
   "metadata": {},
   "outputs": [
    {
     "name": "stdout",
     "output_type": "stream",
     "text": [
      "{3, 6}\n"
     ]
    }
   ],
   "source": [
    "# Intersection in set (What the two list has in common)\n",
    "a = {1,2,3,4,6}\n",
    "b = {3,5,6,7,8}\n",
    "\n",
    "intersection = a.intersection (b)\n",
    "print (intersection)"
   ]
  },
  {
   "cell_type": "code",
   "execution_count": 25,
   "id": "957199f9",
   "metadata": {},
   "outputs": [
    {
     "name": "stdout",
     "output_type": "stream",
     "text": [
      "{1, 2, 4}\n"
     ]
    }
   ],
   "source": [
    "# Difference in Set\n",
    "\n",
    "difference = a.difference(b)\n",
    "print (difference)"
   ]
  },
  {
   "cell_type": "code",
   "execution_count": 26,
   "id": "48ac28ae",
   "metadata": {},
   "outputs": [
    {
     "name": "stdout",
     "output_type": "stream",
     "text": [
      "True\n",
      "False\n"
     ]
    }
   ],
   "source": [
    "# Checking for Membership in Sets\n",
    "# in operation helps us to check for variable in a list\n",
    "\n",
    "AB = {2,3,5,7,8,0}\n",
    "\n",
    "print (2 in AB)\n",
    "print (10 in AB)"
   ]
  },
  {
   "cell_type": "code",
   "execution_count": 27,
   "id": "6cc8692d",
   "metadata": {},
   "outputs": [
    {
     "name": "stdout",
     "output_type": "stream",
     "text": [
      "False\n"
     ]
    }
   ],
   "source": [
    "# Example1: to check if Emmanuel loves yam\n",
    "\n",
    "Emmanuel = {\"rice\", \"afang\", \"beans\"}\n",
    "print (\"yam\" in Emmanuel)\n",
    "\n"
   ]
  },
  {
   "cell_type": "code",
   "execution_count": 28,
   "id": "4e3ac1b6",
   "metadata": {},
   "outputs": [
    {
     "name": "stdout",
     "output_type": "stream",
     "text": [
      "True\n"
     ]
    }
   ],
   "source": [
    "print (\"rice\" in Emmanuel)"
   ]
  },
  {
   "cell_type": "code",
   "execution_count": 29,
   "id": "5c78c02e",
   "metadata": {},
   "outputs": [
    {
     "name": "stdout",
     "output_type": "stream",
     "text": [
      "She loves better food\n"
     ]
    }
   ],
   "source": [
    "# Example 2: \n",
    "\n",
    "Christy = {\n",
    "    \"marital Status\": \"marmarried\",\n",
    "    \"food\": \"plantain\",\n",
    "    \"city\": \"Lagos\"\n",
    "}\n",
    "if \"food\" in Christy:\n",
    "    print (\"She loves better food\")\n",
    "else:\n",
    "    print (\"She does not love better food\")"
   ]
  },
  {
   "cell_type": "code",
   "execution_count": 32,
   "id": "59ecee8f",
   "metadata": {},
   "outputs": [
    {
     "name": "stdout",
     "output_type": "stream",
     "text": [
      "She does not have a twin\n"
     ]
    }
   ],
   "source": [
    "#Example 3:\n",
    "if \"twins\" in Christy:\n",
    "    print (\"He is in Lagos\")\n",
    "else:\n",
    "    print(\"She does not have a twin\")"
   ]
  },
  {
   "cell_type": "code",
   "execution_count": 34,
   "id": "dc34d5b4",
   "metadata": {},
   "outputs": [
    {
     "name": "stdout",
     "output_type": "stream",
     "text": [
      "She does not love man\n"
     ]
    }
   ],
   "source": [
    "if \"married\" in Christy:\n",
    "    print (\"She loves man\")\n",
    "else:\n",
    "    print (\"She does not love man\")"
   ]
  },
  {
   "cell_type": "code",
   "execution_count": 36,
   "id": "146c4ce3",
   "metadata": {},
   "outputs": [
    {
     "name": "stdout",
     "output_type": "stream",
     "text": [
      "{'stapler', 'printers', 'camera', 'laptops', 'television', 'printer'}\n"
     ]
    }
   ],
   "source": [
    "# More examples on membweship in sets\n",
    "\n",
    "company_equipment = {\"laptops\", \"printers\", \"stapler\"}\n",
    "new_equipment = {\"television\", \"laptops\", \"camera\", \"printer\"}\n",
    "\n",
    "for equipment in new_equipment:\n",
    "    if equipment not in company_equipment:\n",
    "        company_equipment.add(equipment)\n",
    "\n",
    "print (company_equipment)"
   ]
  },
  {
   "cell_type": "code",
   "execution_count": null,
   "id": "fbba21d5",
   "metadata": {},
   "outputs": [],
   "source": []
  }
 ],
 "metadata": {
  "kernelspec": {
   "display_name": "Python 3 (ipykernel)",
   "language": "python",
   "name": "python3"
  },
  "language_info": {
   "codemirror_mode": {
    "name": "ipython",
    "version": 3
   },
   "file_extension": ".py",
   "mimetype": "text/x-python",
   "name": "python",
   "nbconvert_exporter": "python",
   "pygments_lexer": "ipython3",
   "version": "3.11.5"
  }
 },
 "nbformat": 4,
 "nbformat_minor": 5
}
