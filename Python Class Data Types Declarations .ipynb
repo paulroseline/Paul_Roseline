{
 "cells": [
  {
   "cell_type": "markdown",
   "id": "90eb6add",
   "metadata": {},
   "source": [
    "# Declaring an integer"
   ]
  },
  {
   "cell_type": "code",
   "execution_count": 18,
   "id": "0904204a",
   "metadata": {},
   "outputs": [
    {
     "name": "stdout",
     "output_type": "stream",
     "text": [
      "10\n"
     ]
    }
   ],
   "source": [
    "# Declaring an integer\n",
    "\n",
    "a = 10\n",
    "print (a)\n",
    "\n",
    "\n",
    "# Output"
   ]
  },
  {
   "cell_type": "code",
   "execution_count": null,
   "id": "c709d660",
   "metadata": {},
   "outputs": [],
   "source": []
  },
  {
   "cell_type": "markdown",
   "id": "0061f973",
   "metadata": {},
   "source": [
    "# A String"
   ]
  },
  {
   "cell_type": "code",
   "execution_count": 9,
   "id": "3a5b9bef",
   "metadata": {},
   "outputs": [
    {
     "name": "stdout",
     "output_type": "stream",
     "text": [
      "Hello People , Hello World , 30\n"
     ]
    }
   ],
   "source": [
    "# To Declare a String\n",
    "\n",
    "A = \"Hello World\"\n",
    "B = 'Hello People'\n",
    "C = 30\n",
    "\n",
    "print (B,\",\",A,\",\", C)"
   ]
  },
  {
   "cell_type": "code",
   "execution_count": null,
   "id": "c3d8f919",
   "metadata": {},
   "outputs": [],
   "source": []
  },
  {
   "cell_type": "markdown",
   "id": "11ac349e",
   "metadata": {},
   "source": [
    "# A List"
   ]
  },
  {
   "cell_type": "code",
   "execution_count": 10,
   "id": "aa37f956",
   "metadata": {},
   "outputs": [
    {
     "name": "stdout",
     "output_type": "stream",
     "text": [
      "[]\n"
     ]
    }
   ],
   "source": [
    "# Example 1:\" To print an empty list\n",
    "\n",
    "empty_list = []\n",
    "print (empty_list)\n",
    "\n"
   ]
  },
  {
   "cell_type": "code",
   "execution_count": 11,
   "id": "236494c2",
   "metadata": {},
   "outputs": [
    {
     "name": "stdout",
     "output_type": "stream",
     "text": [
      "[1, 2, 3, 4, 5, 6]\n"
     ]
    }
   ],
   "source": [
    "# Example 2: A list with integer\n",
    "\n",
    "numbers = [1,2,3,4,5,6]\n",
    "print (numbers)"
   ]
  },
  {
   "cell_type": "code",
   "execution_count": 13,
   "id": "1ae76524",
   "metadata": {},
   "outputs": [
    {
     "name": "stdout",
     "output_type": "stream",
     "text": [
      "['BMW', 'Mercedez', 'Ford', 'Toyota']\n"
     ]
    }
   ],
   "source": [
    "# Example 3: A lisr with String\n",
    "\n",
    "cars = ['BMW', 'Mercedez', 'Ford', 'Toyota']\n",
    "print (cars)"
   ]
  },
  {
   "cell_type": "code",
   "execution_count": null,
   "id": "fbf3d698",
   "metadata": {},
   "outputs": [],
   "source": [
    "    "
   ]
  },
  {
   "cell_type": "markdown",
   "id": "a591cc8c",
   "metadata": {},
   "source": [
    "# Exercise 1: Print a list with integer, float, boolean and string"
   ]
  },
  {
   "cell_type": "code",
   "execution_count": 14,
   "id": "e32da64e",
   "metadata": {},
   "outputs": [
    {
     "name": "stdout",
     "output_type": "stream",
     "text": [
      "[20, True, 'mark', 0.2]\n"
     ]
    }
   ],
   "source": [
    "# Solition\n",
    "\n",
    "ex1_solution = [20, True, 'mark', 00.2] \n",
    "print (ex1_solution)"
   ]
  },
  {
   "cell_type": "code",
   "execution_count": null,
   "id": "4c0c43d6",
   "metadata": {},
   "outputs": [],
   "source": []
  },
  {
   "cell_type": "markdown",
   "id": "2135f447",
   "metadata": {},
   "source": [
    "# Nested List"
   ]
  },
  {
   "cell_type": "code",
   "execution_count": 21,
   "id": "27beb50f",
   "metadata": {},
   "outputs": [
    {
     "name": "stdout",
     "output_type": "stream",
     "text": [
      "[[2, 3, 4], ['Lagos', 'Abuja']]\n"
     ]
    }
   ],
   "source": [
    "Nigeria = [[2,3,4], ['Lagos', 'Abuja']]\n",
    "print (Nigeria)"
   ]
  },
  {
   "cell_type": "code",
   "execution_count": 22,
   "id": "ececb6c9",
   "metadata": {},
   "outputs": [
    {
     "name": "stdout",
     "output_type": "stream",
     "text": [
      "[[1, 2, 3], [4, 5, 6], [7, 8, 9]]\n"
     ]
    }
   ],
   "source": [
    "matrix = [\n",
    "    [1,2,3],\n",
    "    [4,5,6],\n",
    "    [7,8,9]\n",
    "]\n",
    "print (matrix)"
   ]
  },
  {
   "cell_type": "code",
   "execution_count": null,
   "id": "7dcdb7a3",
   "metadata": {},
   "outputs": [],
   "source": []
  },
  {
   "cell_type": "markdown",
   "id": "47806235",
   "metadata": {},
   "source": [
    "# Indexing a List"
   ]
  },
  {
   "cell_type": "code",
   "execution_count": 1,
   "id": "8624959c",
   "metadata": {},
   "outputs": [
    {
     "name": "stdout",
     "output_type": "stream",
     "text": [
      "yam\n"
     ]
    }
   ],
   "source": [
    "foods = ['rice', 'beans', 'meat', 'yam']\n",
    "print (foods[3])"
   ]
  },
  {
   "cell_type": "code",
   "execution_count": 2,
   "id": "e96829b4",
   "metadata": {},
   "outputs": [
    {
     "name": "stdout",
     "output_type": "stream",
     "text": [
      "meat\n"
     ]
    }
   ],
   "source": [
    "print (foods[2])"
   ]
  },
  {
   "cell_type": "code",
   "execution_count": 25,
   "id": "72da502b",
   "metadata": {},
   "outputs": [
    {
     "name": "stdout",
     "output_type": "stream",
     "text": [
      "beans\n"
     ]
    }
   ],
   "source": [
    "print (foods[1])"
   ]
  },
  {
   "cell_type": "code",
   "execution_count": 26,
   "id": "f2dd75bc",
   "metadata": {},
   "outputs": [
    {
     "name": "stdout",
     "output_type": "stream",
     "text": [
      "meat\n"
     ]
    }
   ],
   "source": [
    "print (foods[2])"
   ]
  },
  {
   "cell_type": "code",
   "execution_count": 27,
   "id": "f436edfa",
   "metadata": {},
   "outputs": [
    {
     "name": "stdout",
     "output_type": "stream",
     "text": [
      "['rice', 'okro soup', 'meat']\n"
     ]
    }
   ],
   "source": [
    "foods[1] = 'okro soup'\n",
    "print (foods)"
   ]
  },
  {
   "cell_type": "code",
   "execution_count": null,
   "id": "95fa05eb",
   "metadata": {},
   "outputs": [],
   "source": []
  },
  {
   "cell_type": "markdown",
   "id": "443d9b0f",
   "metadata": {},
   "source": [
    "# To Append/Add to a List"
   ]
  },
  {
   "cell_type": "code",
   "execution_count": 28,
   "id": "d5221b17",
   "metadata": {},
   "outputs": [
    {
     "name": "stdout",
     "output_type": "stream",
     "text": [
      "['rice', 'okro soup', 'meat', 'afang']\n"
     ]
    }
   ],
   "source": [
    "foods.append('afang')\n",
    "print (foods)"
   ]
  },
  {
   "cell_type": "code",
   "execution_count": null,
   "id": "c324655b",
   "metadata": {},
   "outputs": [],
   "source": []
  },
  {
   "cell_type": "markdown",
   "id": "28273ed8",
   "metadata": {},
   "source": [
    "# To Remove from a list\n"
   ]
  },
  {
   "cell_type": "code",
   "execution_count": 29,
   "id": "c7fa0e4f",
   "metadata": {},
   "outputs": [
    {
     "name": "stdout",
     "output_type": "stream",
     "text": [
      "['okro soup', 'meat', 'afang']\n"
     ]
    }
   ],
   "source": [
    "foods.remove('rice')\n",
    "print (foods)"
   ]
  },
  {
   "cell_type": "code",
   "execution_count": null,
   "id": "bcb09991",
   "metadata": {},
   "outputs": [],
   "source": []
  },
  {
   "cell_type": "markdown",
   "id": "d879d0f7",
   "metadata": {},
   "source": [
    "# To Insert to a List"
   ]
  },
  {
   "cell_type": "code",
   "execution_count": 30,
   "id": "48b71bfa",
   "metadata": {},
   "outputs": [
    {
     "name": "stdout",
     "output_type": "stream",
     "text": [
      "['okro soup', 'meat', 'amala', 'afang']\n"
     ]
    }
   ],
   "source": [
    "foods.insert(2,'amala')\n",
    "print(foods)"
   ]
  },
  {
   "cell_type": "code",
   "execution_count": null,
   "id": "6371e062",
   "metadata": {},
   "outputs": [],
   "source": []
  },
  {
   "cell_type": "markdown",
   "id": "efb74137",
   "metadata": {},
   "source": [
    "# To Pop a List"
   ]
  },
  {
   "cell_type": "code",
   "execution_count": 32,
   "id": "1e753fc7",
   "metadata": {},
   "outputs": [
    {
     "name": "stdout",
     "output_type": "stream",
     "text": [
      "Anam\n"
     ]
    }
   ],
   "source": [
    "# Example 1: Mention three cities and pop a city\n",
    "\n",
    "cities = ['Akwa', 'Enugu', 'Anam']\n",
    "popped_city = cities.pop()\n",
    "print (popped_city)"
   ]
  },
  {
   "cell_type": "code",
   "execution_count": 3,
   "id": "1ae78833",
   "metadata": {},
   "outputs": [
    {
     "name": "stdout",
     "output_type": "stream",
     "text": [
      "yam\n"
     ]
    }
   ],
   "source": [
    "# Example 2: Mention three foods and pop a food\n",
    "foods = ['rice', 'beans', 'meat', 'yam']\n",
    "popped_food = foods.pop()\n",
    "\n",
    "print (popped_food)"
   ]
  },
  {
   "cell_type": "code",
   "execution_count": null,
   "id": "a848d88b",
   "metadata": {},
   "outputs": [],
   "source": []
  },
  {
   "cell_type": "markdown",
   "id": "04fd1741",
   "metadata": {},
   "source": [
    "# DAY 2\n",
    "# Topic - LEN FUNCTION\n",
    "#  LEN FUNCTION - Is a function used to determine the lenght of a variable "
   ]
  },
  {
   "cell_type": "code",
   "execution_count": 11,
   "id": "70903ce8",
   "metadata": {},
   "outputs": [
    {
     "name": "stdout",
     "output_type": "stream",
     "text": [
      "13\n",
      "I love Python\n"
     ]
    }
   ],
   "source": [
    "# Example 1- To find the lenght of the variable\n",
    "\n",
    "Dahel = \"I love Python\"\n",
    "lenght_of_variable = len(Dahel)\n",
    "\n",
    "print (lenght_of_variable)\n",
    "print (Dahel)"
   ]
  },
  {
   "cell_type": "code",
   "execution_count": 10,
   "id": "7bba934e",
   "metadata": {},
   "outputs": [
    {
     "name": "stdout",
     "output_type": "stream",
     "text": [
      "[150, 700, 19]\n",
      "3\n"
     ]
    }
   ],
   "source": [
    "# Example 2- To print the length  of a variable for an integer\n",
    "\n",
    "Tomatoes = [150, 700, 19]\n",
    "cost_of_tomatoes = len(Tomatoes)\n",
    "print (Tomatoes)\n",
    "print (cost_of_tomatoes)"
   ]
  },
  {
   "cell_type": "code",
   "execution_count": null,
   "id": "5f21f210",
   "metadata": {},
   "outputs": [],
   "source": [
    "# Example 2- \n",
    "\n",
    "Gadgets = [\n",
    "          ['headphones', 'phones', 'watch'], \n",
    "          ['laptop', 'mouse', 'monitor'], \n",
    "          ['television', 'game console', 'speaker']\n",
    "]\n",
    "cost_of_gadgets = len(Gadgets)\n",
    "print(cost_of_gadgets)\n",
    "        "
   ]
  },
  {
   "cell_type": "code",
   "execution_count": null,
   "id": "7232d58f",
   "metadata": {},
   "outputs": [],
   "source": []
  },
  {
   "cell_type": "markdown",
   "id": "f6d2473d",
   "metadata": {},
   "source": [
    "# To Count The Nested List"
   ]
  },
  {
   "cell_type": "code",
   "execution_count": 13,
   "id": "853ef0bb",
   "metadata": {},
   "outputs": [
    {
     "name": "stdout",
     "output_type": "stream",
     "text": [
      "3\n"
     ]
    }
   ],
   "source": [
    "# Example 1\n",
    "\n",
    "matrix = [\n",
    "    [1,2,3],\n",
    "    [4,5,6],\n",
    "    [7,8,9]\n",
    "]\n",
    "length_of_matrix = len (matrix)\n",
    "\n",
    "print (length_of_matrix)\n"
   ]
  },
  {
   "cell_type": "code",
   "execution_count": 20,
   "id": "c5e7f01f",
   "metadata": {},
   "outputs": [
    {
     "name": "stdout",
     "output_type": "stream",
     "text": [
      "1\n",
      "1\n",
      "1\n"
     ]
    }
   ],
   "source": [
    "# Example 2: To count only the word in python\n",
    "\n",
    "Dahel_Techies = \"I love Python\"\n",
    "lenght_of_variable0 = len(Dahel[0])\n",
    "lenght_of_variable1 = len(Dahel[1])\n",
    "lenght_of_variable2 = len(Dahel[2])\n",
    "\n",
    "print (lenght_of_variable0)\n",
    "print (lenght_of_variable1)\n",
    "print (lenght_of_variable2)"
   ]
  },
  {
   "cell_type": "code",
   "execution_count": 21,
   "id": "32362636",
   "metadata": {},
   "outputs": [
    {
     "name": "stdout",
     "output_type": "stream",
     "text": [
      "5\n"
     ]
    }
   ],
   "source": [
    "# Example 3 - To count the character in Excel\n",
    "\n",
    "Dahel_techies = ['python', 'excel', 'data analysis']\n",
    "david = len (Dahel_techies[1])\n",
    "print (david)"
   ]
  },
  {
   "cell_type": "code",
   "execution_count": null,
   "id": "a20d1283",
   "metadata": {},
   "outputs": [],
   "source": []
  },
  {
   "cell_type": "code",
   "execution_count": null,
   "id": "e36ed2e4",
   "metadata": {},
   "outputs": [],
   "source": []
  },
  {
   "cell_type": "markdown",
   "id": "0f768d88",
   "metadata": {},
   "source": [
    "# Class Assignment 1: Create a list of your favorite  fruits and perform the following:"
   ]
  },
  {
   "cell_type": "markdown",
   "id": "8c119443",
   "metadata": {},
   "source": [
    "# 1a. Create a list of favorite fruits"
   ]
  },
  {
   "cell_type": "code",
   "execution_count": 2,
   "id": "1c633e25",
   "metadata": {},
   "outputs": [
    {
     "name": "stdout",
     "output_type": "stream",
     "text": [
      "['apple', 'banana', 'cherry', 'date', 'fig']\n"
     ]
    }
   ],
   "source": [
    "favorite_fruits = [\"apple\", \"banana\", \"cherry\", \"date\", \"fig\"]\n",
    "print (favorite_fruits)"
   ]
  },
  {
   "cell_type": "markdown",
   "id": "801ae92c",
   "metadata": {},
   "source": [
    "# 1b. Add a new fruit to the list"
   ]
  },
  {
   "cell_type": "code",
   "execution_count": 4,
   "id": "d26684c0",
   "metadata": {},
   "outputs": [
    {
     "name": "stdout",
     "output_type": "stream",
     "text": [
      "grape\n"
     ]
    }
   ],
   "source": [
    "new_fruit = \"grape\"\n",
    "favorite_fruits.append(new_fruit)\n",
    "print(new_fruit)"
   ]
  },
  {
   "cell_type": "markdown",
   "id": "e5c3ddec",
   "metadata": {},
   "source": [
    "# 1c. Find the index of a specific fruit"
   ]
  },
  {
   "cell_type": "code",
   "execution_count": 5,
   "id": "4a328b3a",
   "metadata": {},
   "outputs": [
    {
     "name": "stdout",
     "output_type": "stream",
     "text": [
      "banana\n"
     ]
    }
   ],
   "source": [
    "favorite_fruits = [\"apple\", \"banana\", \"cherry\", \"date\", \"fig\"]\n",
    "print (favorite_fruits[1])"
   ]
  },
  {
   "cell_type": "markdown",
   "id": "03999de2",
   "metadata": {},
   "source": [
    "# 1d. Sort the list in alphabetical order"
   ]
  },
  {
   "cell_type": "code",
   "execution_count": 19,
   "id": "2ed9ea98",
   "metadata": {},
   "outputs": [
    {
     "name": "stdout",
     "output_type": "stream",
     "text": [
      "['apple', 'banana', 'cherry', 'date', 'fig']\n"
     ]
    }
   ],
   "source": [
    "favorite_fruits = [\"apple\", \"banana\", \"cherry\", \"date\", \"fig\"]\n",
    "favorite_fruits.sort()\n",
    "print(favorite_fruits)"
   ]
  },
  {
   "cell_type": "code",
   "execution_count": 26,
   "id": "5cb5db58",
   "metadata": {},
   "outputs": [
    {
     "name": "stdout",
     "output_type": "stream",
     "text": [
      "['fig', 'date', 'apple', 'banana', 'cherry']\n"
     ]
    }
   ],
   "source": [
    "# example 1 - To sort the list by length \n",
    "favorite_fruits = sorted(favorite_fruits, key = len)\n",
    "print (favorite_fruits)"
   ]
  },
  {
   "cell_type": "code",
   "execution_count": 27,
   "id": "5cf9b3de",
   "metadata": {},
   "outputs": [
    {
     "name": "stdout",
     "output_type": "stream",
     "text": [
      "['excel', 'python', 'data analysis']\n"
     ]
    }
   ],
   "source": [
    "# Example 2- To soup the list of dahel Techies \n",
    "\n",
    "Dahel_techies = ['python', 'excel', 'data analysis']\n",
    "david = sorted(Dahel_techies, key = len)\n",
    "print (david)"
   ]
  },
  {
   "cell_type": "code",
   "execution_count": null,
   "id": "9b713268",
   "metadata": {},
   "outputs": [],
   "source": []
  },
  {
   "cell_type": "markdown",
   "id": "688096ae",
   "metadata": {},
   "source": [
    "# TUPLE\n",
    "# Tuple cannot be modified"
   ]
  },
  {
   "cell_type": "code",
   "execution_count": 28,
   "id": "61944205",
   "metadata": {},
   "outputs": [
    {
     "name": "stdout",
     "output_type": "stream",
     "text": [
      "(10, 20, 40)\n"
     ]
    }
   ],
   "source": [
    "# Example 1:\n",
    "\n",
    "coordinate = (10,20,40)\n",
    "print (coordinate)"
   ]
  },
  {
   "cell_type": "code",
   "execution_count": null,
   "id": "afd51e7a",
   "metadata": {},
   "outputs": [],
   "source": []
  },
  {
   "cell_type": "markdown",
   "id": "d0ec6446",
   "metadata": {},
   "source": [
    "# Nested Tuple"
   ]
  },
  {
   "cell_type": "code",
   "execution_count": 30,
   "id": "5b3a84e5",
   "metadata": {},
   "outputs": [
    {
     "name": "stdout",
     "output_type": "stream",
     "text": [
      "(('Toyota', 'volkswagen', 'hyundai'), ('Mercedes benz', 'BMW', 'Ferran'))\n"
     ]
    }
   ],
   "source": [
    "# Example \n",
    "\n",
    "cars = (\n",
    "    ('Toyota', 'volkswagen', 'hyundai'),\n",
    "    ('Mercedes benz', 'BMW', 'Ferran')\n",
    ")\n",
    "\n",
    "print (cars)"
   ]
  },
  {
   "cell_type": "code",
   "execution_count": null,
   "id": "d1a7a944",
   "metadata": {},
   "outputs": [],
   "source": []
  },
  {
   "cell_type": "markdown",
   "id": "7d2f345f",
   "metadata": {},
   "source": [
    "# TUPLE Addtion/ Concatenation"
   ]
  },
  {
   "cell_type": "code",
   "execution_count": 32,
   "id": "6adb6f62",
   "metadata": {},
   "outputs": [
    {
     "name": "stdout",
     "output_type": "stream",
     "text": [
      "(1, 2, 3, 4, 5, 6, 7, 8, 9, 10)\n"
     ]
    }
   ],
   "source": [
    "# Example 2 To add two tuples\n",
    "\n",
    "Tuple1 = (1,2,3,4,5)\n",
    "Tuple2 = (6,7,8,9,10)\n",
    "combined_tuple = Tuple1 + Tuple2\n",
    "\n",
    "print (combined_tuple)"
   ]
  },
  {
   "cell_type": "code",
   "execution_count": null,
   "id": "aa232f77",
   "metadata": {},
   "outputs": [],
   "source": []
  },
  {
   "cell_type": "markdown",
   "id": "c28200ab",
   "metadata": {},
   "source": [
    "#  Slicing"
   ]
  },
  {
   "cell_type": "code",
   "execution_count": 38,
   "id": "7590987d",
   "metadata": {},
   "outputs": [
    {
     "name": "stdout",
     "output_type": "stream",
     "text": [
      "(2, 3, 4)\n"
     ]
    }
   ],
   "source": [
    "# Example 1: To print a slice yuple that contain element from index 1 to 4\n",
    "\n",
    "numbers = 0,1,2,3,4,5,6,7\n",
    "slice1 = numbers[2:5]\n",
    "print (slice1)"
   ]
  },
  {
   "cell_type": "code",
   "execution_count": 39,
   "id": "5920a243",
   "metadata": {},
   "outputs": [
    {
     "name": "stdout",
     "output_type": "stream",
     "text": [
      "(3, 4, 5)\n"
     ]
    }
   ],
   "source": [
    "# Example 2: Print the number 3,4 and 5\n",
    "\n",
    "slice2 = numbers [3:6]\n",
    "print (slice2)"
   ]
  },
  {
   "cell_type": "code",
   "execution_count": 40,
   "id": "065324ed",
   "metadata": {},
   "outputs": [
    {
     "name": "stdout",
     "output_type": "stream",
     "text": [
      "(0, 1, 2, 3)\n"
     ]
    }
   ],
   "source": [
    "# Example 3: Print numbers all the way to four without 4\n",
    "\n",
    "slice3 = numbers [0:4]\n",
    "print (slice3)"
   ]
  },
  {
   "cell_type": "code",
   "execution_count": 41,
   "id": "4b30a2a2",
   "metadata": {},
   "outputs": [
    {
     "name": "stdout",
     "output_type": "stream",
     "text": [
      "(0, 1, 2, 3)\n"
     ]
    }
   ],
   "source": [
    "slice3 = numbers [:4]\n",
    "print (slice3)"
   ]
  },
  {
   "cell_type": "code",
   "execution_count": 42,
   "id": "20fbc9ac",
   "metadata": {},
   "outputs": [
    {
     "name": "stdout",
     "output_type": "stream",
     "text": [
      "(4, 5, 6, 7)\n"
     ]
    }
   ],
   "source": [
    "# print 4,5,6,7\n",
    "\n",
    "slice4 = numbers[4:]\n",
    "print (slice4)"
   ]
  },
  {
   "cell_type": "code",
   "execution_count": 49,
   "id": "24138a55",
   "metadata": {},
   "outputs": [
    {
     "name": "stdout",
     "output_type": "stream",
     "text": [
      "(0, 1, 2, 3, 4, 5, 6, 7)\n"
     ]
    }
   ],
   "source": [
    "#print all the  numbers\n",
    "slice5 = numbers[:]\n",
    "print (slice5)"
   ]
  },
  {
   "cell_type": "code",
   "execution_count": null,
   "id": "617e52ac",
   "metadata": {},
   "outputs": [],
   "source": []
  },
  {
   "cell_type": "markdown",
   "id": "c5f45be7",
   "metadata": {},
   "source": [
    "# To Slice a Tuple"
   ]
  },
  {
   "cell_type": "code",
   "execution_count": 51,
   "id": "72869eed",
   "metadata": {},
   "outputs": [
    {
     "name": "stdout",
     "output_type": "stream",
     "text": [
      "(1, 2, 3)\n"
     ]
    }
   ],
   "source": [
    "#Example: To print 1,2,3 using slicing\n",
    "\n",
    "tuple_slice1 = combined_tuple [:3]\n",
    "print (tuple_slice1)\n"
   ]
  },
  {
   "cell_type": "code",
   "execution_count": null,
   "id": "c4518750",
   "metadata": {},
   "outputs": [],
   "source": []
  },
  {
   "cell_type": "markdown",
   "id": "e8052e60",
   "metadata": {},
   "source": [
    "# 1e. Remove  a fruit from the list"
   ]
  },
  {
   "cell_type": "code",
   "execution_count": 6,
   "id": "c72cccb0",
   "metadata": {},
   "outputs": [
    {
     "name": "stdout",
     "output_type": "stream",
     "text": [
      "banana\n"
     ]
    }
   ],
   "source": [
    "favorite_fruits = [\"apple\", \"banana\", \"cherry\", \"date\", \"fig\"]\n",
    "\n",
    "fruit_to_remove = \"banana\"\n",
    "if fruit_to_remove in favorite_fruits:\n",
    "    favorite_fruits.remove(fruit_to_remove)\n",
    "print (fruit_to_remove)  "
   ]
  },
  {
   "cell_type": "code",
   "execution_count": 11,
   "id": "5303fc6e",
   "metadata": {},
   "outputs": [
    {
     "name": "stdout",
     "output_type": "stream",
     "text": [
      "banana\n"
     ]
    }
   ],
   "source": [
    "# To remove from a the list\n",
    "fruit_to_remove = ('banana')\n",
    "print(fruit_to_remove)"
   ]
  },
  {
   "cell_type": "code",
   "execution_count": null,
   "id": "6f4f2a6c",
   "metadata": {},
   "outputs": [],
   "source": []
  },
  {
   "cell_type": "code",
   "execution_count": null,
   "id": "e74bf6d3",
   "metadata": {},
   "outputs": [],
   "source": []
  },
  {
   "cell_type": "markdown",
   "id": "1477f5c8",
   "metadata": {},
   "source": [
    "# Length of a Variable"
   ]
  },
  {
   "cell_type": "markdown",
   "id": "7a7b054b",
   "metadata": {},
   "source": [
    "# Example 1: Fine the length of a variable\n",
    "\n",
    "Dahel = 'I Love Python'\n",
    "length_of_variable = len(Dahel)\n",
    "print (length_of_variable)"
   ]
  },
  {
   "cell_type": "code",
   "execution_count": 12,
   "id": "e61b80c3",
   "metadata": {},
   "outputs": [
    {
     "name": "stdout",
     "output_type": "stream",
     "text": [
      "3\n"
     ]
    }
   ],
   "source": [
    "# Example 2: Fine the length of a variable for an integer\n",
    "\n",
    "Tomatoes = [150, 700, 19]\n",
    "cost_of_tomatoes = len(Tomatoes)\n",
    "print(cost_of_tomatoes)"
   ]
  },
  {
   "cell_type": "code",
   "execution_count": 14,
   "id": "1cd9aa54",
   "metadata": {},
   "outputs": [
    {
     "name": "stdout",
     "output_type": "stream",
     "text": [
      "2\n"
     ]
    }
   ],
   "source": [
    "# Example 2: Fine the length of a variable for an nested list\n",
    "\n",
    "Gadgets = [\n",
    "    ['headphobe', 'phones', 'watch'],\n",
    "    ['laptop', 'game console', 'speaker']\n",
    "]\n",
    "cost_gadget = len(Gadgets)\n",
    "print (cost_gadget)\n"
   ]
  },
  {
   "cell_type": "code",
   "execution_count": 25,
   "id": "2a4a863b",
   "metadata": {},
   "outputs": [
    {
     "name": "stdout",
     "output_type": "stream",
     "text": [
      "3\n"
     ]
    }
   ],
   "source": [
    "# To count a nested list \n",
    "matrix = [\n",
    "    [1, 2, 3],\n",
    "    [4, 5, 6],\n",
    "    [7, 8, 9]\n",
    "]\n",
    "length_of_matrix = len(matrix)\n",
    "print (length_of_matrix)"
   ]
  },
  {
   "cell_type": "code",
   "execution_count": 25,
   "id": "9d40b5c0",
   "metadata": {},
   "outputs": [
    {
     "name": "stdout",
     "output_type": "stream",
     "text": [
      "['mango', 'banana', 'oranges']\n"
     ]
    }
   ],
   "source": [
    "fruits = ['banana', 'mango', 'oranges']\n",
    "sorted_fruit = sorted (fruits, key = len)\n",
    "print (sorted_fruit)"
   ]
  },
  {
   "cell_type": "code",
   "execution_count": null,
   "id": "304ca1ab",
   "metadata": {},
   "outputs": [],
   "source": []
  },
  {
   "cell_type": "markdown",
   "id": "e2c3594c",
   "metadata": {},
   "source": [
    "# Class Exercise 2:  List Comprehension: \n",
    "# 2a) Create a list of numbers from 1 to 10 and \n",
    "# 2b) Use list comprehension to generate a new list containing the squares of these numbers.\n"
   ]
  },
  {
   "cell_type": "code",
   "execution_count": 37,
   "id": "db7a22b8",
   "metadata": {},
   "outputs": [
    {
     "name": "stdout",
     "output_type": "stream",
     "text": [
      "[1, 2, 3, 4, 5, 6, 7, 8, 9, 10]\n"
     ]
    }
   ],
   "source": [
    "# 2a) To cCreate a list of numbers from 1 to 10\n",
    "\n",
    "numbers = list(range(1, 10 + 1))\n",
    "print (numbers)"
   ]
  },
  {
   "cell_type": "code",
   "execution_count": null,
   "id": "c94c0088",
   "metadata": {},
   "outputs": [],
   "source": [
    "# To explain code No, 3a above:\n",
    "# - Range function is used to create a list of number\n",
    "# - Range(1, 11) generates numbers from 1 to 10.\n",
    "# - List() converts this range into a list. \n",
    "# - When you run the codes, it generates number from 1 to 10"
   ]
  },
  {
   "cell_type": "code",
   "execution_count": null,
   "id": "0d681c75",
   "metadata": {},
   "outputs": [],
   "source": []
  },
  {
   "cell_type": "code",
   "execution_count": 53,
   "id": "d0f1f3d9",
   "metadata": {},
   "outputs": [
    {
     "name": "stdout",
     "output_type": "stream",
     "text": [
      "[1, 4, 9, 16, 25, 36, 49, 64, 81, 100]\n"
     ]
    }
   ],
   "source": [
    "# 2b) To use list comprehension to generate a new list containing the squares of these numbers.\n",
    "\n",
    "numbers = list(range(1, 10 + 1))\n",
    "squares = [number ** 2 for number in numbers]\n",
    "print(squares)"
   ]
  },
  {
   "cell_type": "code",
   "execution_count": null,
   "id": "08ad7e22",
   "metadata": {},
   "outputs": [],
   "source": [
    "# To explain code No, 3b above:\n",
    "# - [number**2 for number in numbers] is the list comprehension.\n",
    "# - number**2 is the arithmetic expression that computes the square of the numbers.\n",
    "# - for number in numbers is the loop Basoc statement that goes through each number in the numbers list.\n",
    "# - When you print squares, it generate the square of each number."
   ]
  },
  {
   "cell_type": "code",
   "execution_count": null,
   "id": "269a30f4",
   "metadata": {},
   "outputs": [],
   "source": []
  },
  {
   "cell_type": "markdown",
   "id": "f67ac3a7",
   "metadata": {},
   "source": [
    "# Class Exercise 3: Nested Lists\n",
    "# 3a Create a nested list to represent the following matrix and write code to:\n",
    "# 3b Print the element in the second row and third column.\n",
    "# 3c Calculate the sum of all elements in the matrix.\n",
    "# Here's the Matrix:\n",
    "# 1 2 3\n",
    "# 4 5 6\n",
    "# 7 8 9\n"
   ]
  },
  {
   "cell_type": "code",
   "execution_count": 55,
   "id": "5140b8e8",
   "metadata": {},
   "outputs": [
    {
     "name": "stdout",
     "output_type": "stream",
     "text": [
      "[[1, 2, 3], [4, 5, 6], [7, 8, 9]]\n"
     ]
    }
   ],
   "source": [
    "# 3a To create reate the nested list representing the matrix\n",
    "matrix = [\n",
    "    [1, 2, 3],\n",
    "    [4, 5, 6],\n",
    "    [7, 8, 9]\n",
    "]\n",
    "print (matrix)"
   ]
  },
  {
   "cell_type": "code",
   "execution_count": 67,
   "id": "3e3ee410",
   "metadata": {},
   "outputs": [],
   "source": [
    "# To explain code 4a\n",
    "# We define a nested list matrix where each sublist represents a row in the matrix.\n",
    "# For example, matrix[0] = the first row [1, 2, 3], matrix[1] = the second row [4, 5, 6], and  matrix[2] = [7, 8, 9]."
   ]
  },
  {
   "cell_type": "markdown",
   "id": "16d404b3",
   "metadata": {},
   "source": [
    "# Matrix Mmanipulations "
   ]
  },
  {
   "cell_type": "code",
   "execution_count": 60,
   "id": "b88d89a4",
   "metadata": {},
   "outputs": [
    {
     "name": "stdout",
     "output_type": "stream",
     "text": [
      "[4, 5, 6]\n"
     ]
    }
   ],
   "source": [
    "# Print the element in the second row \n",
    "element_in_2_rows = matrix[1]\n",
    "print (element_in_2_rows)"
   ]
  },
  {
   "cell_type": "code",
   "execution_count": 62,
   "id": "c0263800",
   "metadata": {},
   "outputs": [
    {
     "name": "stdout",
     "output_type": "stream",
     "text": [
      "[7, 8, 9]\n"
     ]
    }
   ],
   "source": [
    "# Print the element in the third row \n",
    "element_in_3_rows = matrix[2]\n",
    "print (element_in_3_rows)"
   ]
  },
  {
   "cell_type": "code",
   "execution_count": 72,
   "id": "3223c26b",
   "metadata": {},
   "outputs": [
    {
     "name": "stdout",
     "output_type": "stream",
     "text": [
      "2\n"
     ]
    }
   ],
   "source": [
    "# Print the element in the first row and second column\n",
    "element_2_3 = matrix[0][1]\n",
    "print (element_2_3)"
   ]
  },
  {
   "cell_type": "code",
   "execution_count": 74,
   "id": "5cfaf7fe",
   "metadata": {},
   "outputs": [
    {
     "name": "stdout",
     "output_type": "stream",
     "text": [
      "8\n"
     ]
    }
   ],
   "source": [
    "# Print the element in the third row and second column\n",
    "element_2_3 = matrix[2][1]\n",
    "print (element_2_3)"
   ]
  },
  {
   "cell_type": "code",
   "execution_count": 65,
   "id": "41db29e5",
   "metadata": {},
   "outputs": [
    {
     "name": "stdout",
     "output_type": "stream",
     "text": [
      "Element in the second row and third column: 6\n"
     ]
    }
   ],
   "source": [
    "# 3b Print the element in the second row and third column\n",
    "element_2_3 = matrix[1][2]\n",
    "print(f\"Element in the second row and third column: {element_2_3}\")\n"
   ]
  },
  {
   "cell_type": "code",
   "execution_count": null,
   "id": "e504b9fa",
   "metadata": {},
   "outputs": [],
   "source": [
    "# To explain the code i 3b\n",
    "#To print the element in the second row and third column, \n",
    "# We use matrix[1][2]. In Python indexing, matrix[1] gives us the second row ([4, 5, 6]),\n",
    "# And matrix[1][2] gives us the third element in that row (6).\n"
   ]
  },
  {
   "cell_type": "code",
   "execution_count": 75,
   "id": "bb2de63a",
   "metadata": {},
   "outputs": [
    {
     "name": "stdout",
     "output_type": "stream",
     "text": [
      "The sum of all elements in the matrix is: 45\n"
     ]
    }
   ],
   "source": [
    "# 3c Calculate the sum of all elements in the matrix\n",
    "sun_of_matrix = sum(sum(row) for row in matrix)\n",
    "print(f\"The sum of all elements in the matrix is: {sun_of_matrix}\")"
   ]
  },
  {
   "cell_type": "code",
   "execution_count": null,
   "id": "a0ab4280",
   "metadata": {},
   "outputs": [],
   "source": [
    "# To explain the code i 3c\n",
    "# For matrix = [[1, 2, 3], [4, 5, 6], [7, 8, 9]]:\n",
    "# Sum(row) for [1, 2, 3] is 6\n",
    "# Sum(row) for [4, 5, 6] is 15\n",
    "# Sum(row) for [7, 8, 9] is 24\n",
    "# Therefore, sum_of_matrix will be 6 + 15 + 24 = 45.\n"
   ]
  },
  {
   "cell_type": "code",
   "execution_count": null,
   "id": "d40fd685",
   "metadata": {},
   "outputs": [],
   "source": []
  },
  {
   "cell_type": "code",
   "execution_count": 80,
   "id": "4246fa10",
   "metadata": {},
   "outputs": [
    {
     "name": "stdout",
     "output_type": "stream",
     "text": [
      "45\n"
     ]
    }
   ],
   "source": [
    "# Calculate the sum of all elements in the matrix: Alternatively \n",
    "matrix = [\n",
    "    [1, 2, 3],\n",
    "    [4, 5, 6],\n",
    "    [7, 8, 9]\n",
    "]\n",
    "sum_of_matrix = 0\n",
    "for row in matrix:\n",
    "    for element in row:\n",
    "        sum_of_matrix += element\n",
    "print (sum_of_matrix)"
   ]
  },
  {
   "cell_type": "code",
   "execution_count": null,
   "id": "7cadb579",
   "metadata": {},
   "outputs": [],
   "source": [
    "# To explain the code i 3c\n",
    "## To calculating the Sum of the matrix:\n",
    "# We initialize sun_of_matrix to zero.\n",
    "# We then use nested loops to iterate through each element in the matrix.\n",
    "# Each element is added to sun_of_matrix, resulting in the sum of all elements in the matrix."
   ]
  },
  {
   "cell_type": "code",
   "execution_count": 78,
   "id": "d13e3d77",
   "metadata": {},
   "outputs": [
    {
     "name": "stdout",
     "output_type": "stream",
     "text": [
      "24\n"
     ]
    }
   ],
   "source": [
    "sun_of_matrix = sum(row)\n",
    "print (sun_of_matrix)"
   ]
  },
  {
   "cell_type": "code",
   "execution_count": null,
   "id": "5249e3c3",
   "metadata": {},
   "outputs": [],
   "source": []
  },
  {
   "cell_type": "markdown",
   "id": "4e5e50df",
   "metadata": {},
   "source": [
    "# List of Dictionaries\n",
    "# Class Exercise 4a Create a list of dictionaries where each dictionary represents a student with keys \"name\" and \"score\". Write code to:\n",
    "# 4b Add a new student to the list.\n",
    "# 4c Calculate the average score of all students.\n"
   ]
  },
  {
   "cell_type": "code",
   "execution_count": 1,
   "id": "ae848f48",
   "metadata": {},
   "outputs": [
    {
     "name": "stdout",
     "output_type": "stream",
     "text": [
      "[{'name': 'David', 'score': 39}, {'name': 'Bola', 'score': 60}, {'name': 'Femi', 'score': 66}]\n"
     ]
    }
   ],
   "source": [
    "# 4a: Create a list of dictionaries representing students\n",
    "students_list = [\n",
    "    {\"name\": \"David\", \"score\": 39},\n",
    "    {\"name\": \"Bola\", \"score\": 60},\n",
    "    {\"name\": \"Femi\", \"score\": 66}\n",
    "]\n",
    "print (students_list)"
   ]
  },
  {
   "cell_type": "code",
   "execution_count": null,
   "id": "4313dac0",
   "metadata": {},
   "outputs": [],
   "source": [
    "# Existing list of students\n",
    "students_list = [\n",
    "    {\"name\": \"David\", \"score\": 39},\n",
    "    {\"name\": \"Bola\", \"score\": 60},\n",
    "    {\"name\": \"Femi\", \"score\": 66}\n",
    "]\n"
   ]
  },
  {
   "cell_type": "code",
   "execution_count": 6,
   "id": "89137afc",
   "metadata": {},
   "outputs": [
    {
     "name": "stdout",
     "output_type": "stream",
     "text": [
      "[{'name': 'David', 'score': 39}, {'name': 'Bola', 'score': 60}, {'name': 'Femi', 'score': 66}, {'name': 'Tope', 'score': 59}]\n"
     ]
    }
   ],
   "source": [
    "# 4b. To add a new student to the list\n",
    "\n",
    "# Existing student list\n",
    "students_list = [\n",
    "    {\"name\": \"David\", \"score\": 39},\n",
    "    {\"name\": \"Bola\", \"score\": 60},\n",
    "    {\"name\": \"Femi\", \"score\": 66}\n",
    "]\n",
    "\n",
    "# New student to add\n",
    "new_student = {\"name\": \"Tope\", \"score\": 59}\n",
    "\n",
    "# Add the new student to the list\n",
    "students_list.append(new_student)\n",
    "\n",
    "# Print the updated list of students\n",
    "print(students_list)"
   ]
  },
  {
   "cell_type": "code",
   "execution_count": 7,
   "id": "fd52bd7a",
   "metadata": {},
   "outputs": [
    {
     "name": "stdout",
     "output_type": "stream",
     "text": [
      "List of Students: [{'name': 'David', 'score': 39}, {'name': 'Bola', 'score': 60}, {'name': 'Femi', 'score': 66}, {'name': 'Tope', 'score': 59}]\n",
      "Average Score: 56.0\n"
     ]
    }
   ],
   "source": [
    "# 4c: To calculate the average score of all students\n",
    "\n",
    "total_score = sum(student['score'] for student in students_list)\n",
    "average_score = total_score / len(students_list)\n",
    "\n",
    "# Print the list of students and the average score\n",
    "print(\"List of Students:\", students_list)\n",
    "print(\"Average Score:\", average_score)"
   ]
  },
  {
   "cell_type": "code",
   "execution_count": null,
   "id": "3a1f9e6d",
   "metadata": {},
   "outputs": [],
   "source": []
  },
  {
   "cell_type": "markdown",
   "id": "ab5e91f8",
   "metadata": {},
   "source": [
    "# Class Exercise 5. List Filtering\n",
    "# 5a) Create a list of numbers from 1 to 20. \n",
    "# 5b) Use list comprehension to filter out the numbers that are not divisible by 3.\n"
   ]
  },
  {
   "cell_type": "code",
   "execution_count": 13,
   "id": "b6d46182",
   "metadata": {},
   "outputs": [
    {
     "name": "stdout",
     "output_type": "stream",
     "text": [
      "[1, 2, 3, 4, 5, 6, 7, 8, 9, 10, 11, 12, 13, 14, 15, 16, 17, 18, 19, 20]\n"
     ]
    }
   ],
   "source": [
    "# 5a): Create a list of numbers from 1 to 20\n",
    "\n",
    "# range(1, 21) generates numbers from 1 to 20.\n",
    "# list(range(1, 21)) converts the range object into a list.\n",
    "\n",
    "numbers = list(range(1, 21))\n",
    "print (numbers)"
   ]
  },
  {
   "cell_type": "code",
   "execution_count": null,
   "id": "2e72900b",
   "metadata": {},
   "outputs": [],
   "source": [
    "# 5b): Use list comprehension to filter out the numbers that are not divisible by 3\n",
    "\n",
    "#if number % 3 == 0 includes the number in the new list filtered_numbers only if it is divisible by 3.\n",
    "filtered_numbers = [number for number in numbers if number % 3 == 0]\n",
    "print (filtered_numbers)"
   ]
  },
  {
   "cell_type": "code",
   "execution_count": null,
   "id": "0baeae13",
   "metadata": {},
   "outputs": [],
   "source": []
  },
  {
   "cell_type": "markdown",
   "id": "fed01f9f",
   "metadata": {},
   "source": [
    "# Class Exercise 6: Finding Common Elements\n",
    "# 6a) Given two lists of integers, \n",
    "# 6b) find the common elements between them.\n"
   ]
  },
  {
   "cell_type": "code",
   "execution_count": 18,
   "id": "478e9f26",
   "metadata": {},
   "outputs": [
    {
     "name": "stdout",
     "output_type": "stream",
     "text": [
      "[2, 4, 6, 8, 10, 12, 14, 16, 18, 20]\n"
     ]
    }
   ],
   "source": [
    "# 6a) To define two lists of integers\n",
    "\n",
    "list1 = [1, 2, 3, 4, 5, 6, 7, 8, 9, 10, 11, 12, 13, 14, 15, 16, 17, 18, 19, 20]\n",
    "list2 = [2, 4, 6 , 8, 10, 12, 14, 16, 18, 20]\n",
    "\n",
    "# Find common elements using set intersection\n",
    "common_elements = list(set(list1) & set(list2))\n",
    "print(common_elements)"
   ]
  },
  {
   "cell_type": "code",
   "execution_count": null,
   "id": "c0325ae5",
   "metadata": {},
   "outputs": [],
   "source": []
  },
  {
   "cell_type": "markdown",
   "id": "cda8fe01",
   "metadata": {},
   "source": [
    "# Class Exercise 7: List Reversal\n",
    "# 7a) Create a list of words and \n",
    "# 7b) write code to reverse the list.\n"
   ]
  },
  {
   "cell_type": "code",
   "execution_count": 20,
   "id": "ec498595",
   "metadata": {},
   "outputs": [
    {
     "name": "stdout",
     "output_type": "stream",
     "text": [
      "Original list: ['keyboard', 'printer', 'joy stick', 'monitor', 'scanner', 'camera', 'plotter', 'mouse']\n",
      "Reversed list: ['mouse', 'plotter', 'camera', 'scanner', 'monitor', 'joy stick', 'printer', 'keyboard']\n"
     ]
    }
   ],
   "source": [
    "# 7a) Create a list of words\n",
    "words = [\"keyboard\", \"printer\", \"joy stick\", \"monitor\", \"scanner\", \"camera\", \"plotter\", \"mouse\"]\n",
    "\n",
    "# 7b) Reverse the list\n",
    "reversed_list = words[::-1]\n",
    "\n",
    "print(\"Original list:\", words)\n",
    "print(\"Reversed list:\", reversed_list)"
   ]
  },
  {
   "cell_type": "code",
   "execution_count": null,
   "id": "6429ade7",
   "metadata": {},
   "outputs": [],
   "source": []
  },
  {
   "cell_type": "markdown",
   "id": "66fdd84a",
   "metadata": {},
   "source": [
    "# Exercise 8: Removing Duplicates\n",
    "# Given a list of integers, write code to remove duplicate elements and return the list of unique elements.\n"
   ]
  },
  {
   "cell_type": "code",
   "execution_count": 31,
   "id": "f1909cc2",
   "metadata": {},
   "outputs": [
    {
     "name": "stdout",
     "output_type": "stream",
     "text": [
      "[1, 2, 3, 4, 5, 6, 7, 8, 9, 10, 11, 12, 13, 14, 15, 16, 17, 18, 19, 20]\n"
     ]
    }
   ],
   "source": [
    "def remove_duplicates(nums):\n",
    "    seen = set()\n",
    "    unique_nums = []\n",
    "    for num in nums:\n",
    "        if num not in seen:\n",
    "            seen.add(num)\n",
    "            unique_nums.append(num)\n",
    "    return unique_nums\n",
    "\n",
    "# Example usage:\n",
    "numbers = [1, 2, 3, 4, 5, 6, 7, 8, 9, 10, 11, 12, 13, 14, 15, 16, 17, 18, 19, 20, 2, 4, 6 , 8, 10, 12, 14, 16, 18, 20]\n",
    "unique_numbers = remove_duplicates(numbers)\n",
    "print(unique_numbers)\n"
   ]
  },
  {
   "cell_type": "code",
   "execution_count": 39,
   "id": "cb07fba1",
   "metadata": {},
   "outputs": [
    {
     "name": "stdout",
     "output_type": "stream",
     "text": [
      "[6, 8, 10, 12]\n"
     ]
    }
   ],
   "source": [
    "def combine_lists(list1, list2):\n",
    "    # Check if both lists are of the same length\n",
    "    if len(list1) != len(list2):\n",
    "        raise ValueError(\"Lists must be of the same length\")\n",
    "\n",
    "    # Create a new list where each element is the sum of corresponding elements from list1 and list2\n",
    "    combined_list = [list1[i] + list2[i] for i in range(len(list1))]\n",
    "    \n",
    "    return combined_list\n",
    "\n",
    "# Example usage:\n",
    "list1 = [1, 2, 3, 4]\n",
    "list2 = [5, 6, 7, 8]\n",
    "\n",
    "combined_list = combine_lists(list1, list2)\n",
    "print(combined_list)  # Output: [6, 8, 10, 12]"
   ]
  },
  {
   "cell_type": "code",
   "execution_count": null,
   "id": "9ef681e8",
   "metadata": {},
   "outputs": [],
   "source": []
  },
  {
   "cell_type": "markdown",
   "id": "5b71cf92",
   "metadata": {},
   "source": [
    "# Exercise 9. Combining Lists\n",
    "# Given two lists of the same length, create a new list where each element is the sum of the elements at the corresponding position in the original lists."
   ]
  },
  {
   "cell_type": "code",
   "execution_count": 55,
   "id": "e8b0b19c",
   "metadata": {},
   "outputs": [
    {
     "name": "stdout",
     "output_type": "stream",
     "text": [
      "[1, 2, 3, 4, 5, 6, 7, 8, 9, 10]\n"
     ]
    }
   ],
   "source": [
    "# Given two lists of the same length\n",
    "\n",
    "list1 = [1, 2, 3, 4, 5]\n",
    "list2 = [6, 7, 8, 9, 10]\n",
    "combined_list = list1 + list2\n",
    "\n",
    "print (combined_list)"
   ]
  },
  {
   "cell_type": "code",
   "execution_count": 56,
   "id": "e8d73180",
   "metadata": {},
   "outputs": [
    {
     "name": "stdout",
     "output_type": "stream",
     "text": [
      "[7, 9, 11, 13, 15]\n"
     ]
    }
   ],
   "source": [
    "# To create a new list where each element is the sum of the elements at the corresponding position in the original lists.\n",
    "\n",
    "list1 = [1, 2, 3, 4, 5]\n",
    "list2 = [6, 7, 8, 9, 10]\n",
    "combined_list = [x + y for x, y in zip(list1, list2)]\n",
    "\n",
    "print(combined_list)"
   ]
  },
  {
   "cell_type": "code",
   "execution_count": null,
   "id": "bd93557a",
   "metadata": {},
   "outputs": [],
   "source": []
  },
  {
   "cell_type": "markdown",
   "id": "0bb43a25",
   "metadata": {},
   "source": [
    "# Exercise 10: Rotating a List\n",
    "# Write a function to rotate a list by a given number of positions to the left."
   ]
  },
  {
   "cell_type": "code",
   "execution_count": 57,
   "id": "7babb389",
   "metadata": {},
   "outputs": [
    {
     "name": "stdout",
     "output_type": "stream",
     "text": [
      "[3, 4, 5, 1, 2]\n"
     ]
    }
   ],
   "source": [
    "def rotate_list_left(lst, positions):\n",
    "    n = len(lst)\n",
    "    positions = positions % n  # To handle cases where positions > n\n",
    "    return lst[positions:] + lst[:positions]\n",
    "\n",
    "# Example usage\n",
    "list1 = [1, 2, 3, 4, 5]\n",
    "rotated_list = rotate_list_left(list1, 2)\n",
    "print(rotated_list)\n"
   ]
  }
 ],
 "metadata": {
  "kernelspec": {
   "display_name": "Python 3 (ipykernel)",
   "language": "python",
   "name": "python3"
  },
  "language_info": {
   "codemirror_mode": {
    "name": "ipython",
    "version": 3
   },
   "file_extension": ".py",
   "mimetype": "text/x-python",
   "name": "python",
   "nbconvert_exporter": "python",
   "pygments_lexer": "ipython3",
   "version": "3.11.5"
  }
 },
 "nbformat": 4,
 "nbformat_minor": 5
}
